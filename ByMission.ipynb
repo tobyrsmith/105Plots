{
 "cells": [
  {
   "cell_type": "code",
   "execution_count": null,
   "metadata": {
    "collapsed": false
   },
   "outputs": [],
   "source": [
    "%matplotlib inline\n",
    "\n",
    "import pandas as pd\n",
    "import numpy as np\n",
    "\n",
    "import matplotlib.pyplot as plt"
   ]
  },
  {
   "cell_type": "code",
   "execution_count": null,
   "metadata": {
    "collapsed": true
   },
   "outputs": [],
   "source": [
    "tfont = {\n",
    "    'family' : 'DejaVu Serif',\n",
    "    'weight' : 'bold',\n",
    "    'size' : 14}\n",
    "\n",
    "plt.rc('font', **tfont)\n",
    "plt.rc(\"axes\", linewidth=3.0)\n",
    "plt.rc('axes', grid=False)\n",
    "\n",
    "plt.style.use('fivethirtyeight')"
   ]
  },
  {
   "cell_type": "code",
   "execution_count": null,
   "metadata": {
    "collapsed": false
   },
   "outputs": [],
   "source": [
    "ApAll = pd.read_csv('NYT_ByMonth.csv', parse_dates=['year'])\n",
    "\n",
    "ApAll[0:5]"
   ]
  },
  {
   "cell_type": "code",
   "execution_count": null,
   "metadata": {
    "collapsed": false
   },
   "outputs": [],
   "source": [
    "M = np.array(ApAll.columns[1:])\n",
    "\n",
    "for i,j in enumerate(M):\n",
    "    print(i,j)"
   ]
  },
  {
   "cell_type": "code",
   "execution_count": null,
   "metadata": {
    "collapsed": false
   },
   "outputs": [],
   "source": [
    "cc = ['#a6cee3','#1f78b4','#b2df8a','#33a02c','#fb9a99','#e31a1c',\n",
    "      '#fdbf6f','#ff7f00','#cab2d6','#6a3d9a','#ffff99','#b15928','#a6cee3' ]"
   ]
  },
  {
   "cell_type": "code",
   "execution_count": null,
   "metadata": {
    "collapsed": false
   },
   "outputs": [],
   "source": [
    "Year = np.array(ApAll['year'])\n",
    "\n",
    "W =  Year[1:] - Year[:-1]\n",
    "\n",
    "Year[132]"
   ]
  },
  {
   "cell_type": "code",
   "execution_count": null,
   "metadata": {
    "collapsed": false
   },
   "outputs": [],
   "source": [
    "fig, ax1 = plt.subplots(1,1)\n",
    "fig.set_size_inches(16,9)\n",
    "\n",
    "ax1.set_xlim(Year[36], Year[133])\n",
    "ax1.set_ylim(0,275)\n",
    "\n",
    "ax1.set_xlabel('Year')\n",
    "ax1.set_ylabel('Number of NYT Articles')\n",
    "\n",
    "for i,j in enumerate(M):\n",
    "    ax1.bar(Year,ApAll[j], align = 'edge', width = 30, color=cc[i], edgecolor = cc[i], alpha = 1.0)\n"
   ]
  },
  {
   "cell_type": "code",
   "execution_count": null,
   "metadata": {
    "collapsed": false
   },
   "outputs": [],
   "source": [
    "fig.savefig('MissionCoverage.png', dpi=300, bbox_inches='tight',pad_inches=0.05)"
   ]
  },
  {
   "cell_type": "code",
   "execution_count": null,
   "metadata": {
    "collapsed": false
   },
   "outputs": [],
   "source": []
  }
 ],
 "metadata": {
  "kernelspec": {
   "display_name": "Python 3",
   "language": "python",
   "name": "python3"
  },
  "language_info": {
   "codemirror_mode": {
    "name": "ipython",
    "version": 3
   },
   "file_extension": ".py",
   "mimetype": "text/x-python",
   "name": "python",
   "nbconvert_exporter": "python",
   "pygments_lexer": "ipython3",
   "version": "3.4.3"
  }
 },
 "nbformat": 4,
 "nbformat_minor": 0
}
