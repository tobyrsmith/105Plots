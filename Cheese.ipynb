{
 "cells": [
  {
   "cell_type": "markdown",
   "metadata": {},
   "source": [
    "## Lunar Cheese"
   ]
  },
  {
   "cell_type": "code",
   "execution_count": null,
   "metadata": {
    "collapsed": false
   },
   "outputs": [],
   "source": [
    "%matplotlib inline\n",
    "\n",
    "import numpy as np\n",
    "import matplotlib.pyplot as plt\n",
    "import pandas as pd"
   ]
  },
  {
   "cell_type": "code",
   "execution_count": null,
   "metadata": {
    "collapsed": false
   },
   "outputs": [],
   "source": [
    "T = pd.read_csv('cheese.csv')\n",
    "T[0:4]"
   ]
  },
  {
   "cell_type": "code",
   "execution_count": null,
   "metadata": {
    "collapsed": false
   },
   "outputs": [],
   "source": [
    "vc = T[T['Type']=='c'].sort(['V'],ascending=False)['V']\n",
    "vm = T[T['Type']=='m'].sort(['V'],ascending=False)['V']\n",
    "vs = T[T['Type']=='s'].sort(['V'],ascending=False)['V']\n",
    "vM = T[T['Type']=='M'].sort(['V'],ascending=False)['V']\n",
    "vl = T[T['Type']=='l'].sort(['V'],ascending=False)['V']\n",
    "vi = T[T['Type']=='i'].sort(['V'],ascending=False)['V']\n",
    "\n",
    "print(vM)"
   ]
  },
  {
   "cell_type": "code",
   "execution_count": null,
   "metadata": {
    "collapsed": false
   },
   "outputs": [],
   "source": [
    "tfont = {\n",
    "    'family' : 'DejaVu Serif',\n",
    "    'weight' : 'bold',\n",
    "    'size' : 14}\n",
    "\n",
    "plt.rc('font', **tfont)\n",
    "plt.rc(\"axes\", linewidth=3.0)\n",
    "plt.rc('axes', grid=False)"
   ]
  },
  {
   "cell_type": "code",
   "execution_count": null,
   "metadata": {
    "collapsed": false
   },
   "outputs": [],
   "source": [
    "fig, ax = plt.subplots(1,1)\n",
    "fig.set_size_inches(16,9)\n",
    "\n",
    "ax.set_yticklabels([])\n",
    "\n",
    "ax.spines['top'].set_visible(False)\n",
    "ax.spines['right'].set_visible(False)\n",
    "ax.get_xaxis().tick_bottom()\n",
    "ax.get_yaxis().tick_left()\n",
    "\n",
    "ax.set_xlim(0,12)\n",
    "ax.set_ylim(0,50)\n",
    "\n",
    "ax.set_xlabel('Seismic Velocity in Sample [km/s]')\n",
    "\n",
    "#Cheese\n",
    "posc = 40 + np.arange(len(vc))\n",
    "ax.barh(posc,vc,color = 'g', height=0.99)\n",
    "\n",
    "#Lunar\n",
    "posl = 37 + np.arange(len(vl))\n",
    "ax.barh(posl,vl,color = 'k', height=0.99)\n",
    "\n",
    "#Sedimentary\n",
    "poss = 29 + np.arange(len(vs))\n",
    "ax.barh(poss,vs,color = 'b', height=0.99)\n",
    "\n",
    "#Metamorphic\n",
    "posm = 20 + np.arange(len(vm))\n",
    "ax.barh(posm,vm,color = 'c', height=0.99)\n",
    "\n",
    "#Igneous\n",
    "posi = 10 + np.arange(len(vi))\n",
    "ax.barh(posi,vi,color = 'r', height=0.99)\n",
    "\n",
    "#Mineral\n",
    "posM = 0 + np.arange(len(vM))\n",
    "ax.barh(posM,vM,color = 'm', height=0.99);"
   ]
  },
  {
   "cell_type": "code",
   "execution_count": null,
   "metadata": {
    "collapsed": false
   },
   "outputs": [],
   "source": [
    "vc = T[T['Type']=='c']['V']  # Cheese\n",
    "vm = T[T['Type']=='m']['V']  # Metamorphic\n",
    "vs = T[T['Type']=='s']['V']  # Sedimentary\n",
    "vM = T[T['Type']=='M']['V']  # Mineral\n",
    "vl = T[T['Type']=='l']['V']  # Lunar\n",
    "vi = T[T['Type']=='i']['V']  # Igneous"
   ]
  },
  {
   "cell_type": "code",
   "execution_count": null,
   "metadata": {
    "collapsed": true
   },
   "outputs": [],
   "source": [
    "XLabels = [\n",
    "          \"Lunar\",\n",
    "          \"Sedimentary\",\n",
    "          \"Metamorphic\",\n",
    "          \"Igneous\",\n",
    "          \"Mineral\",\n",
    "          \"Cheese\",\n",
    "          ]"
   ]
  },
  {
   "cell_type": "code",
   "execution_count": null,
   "metadata": {
    "collapsed": false
   },
   "outputs": [],
   "source": [
    "fig, ax = plt.subplots(1,1)\n",
    "fig.set_size_inches(16,9)\n",
    "\n",
    "bp = ax.boxplot([vl, vs, vm, vi, vM, vc])\n",
    "\n",
    "for box in bp['boxes']:\n",
    "    # change outline color\n",
    "    box.set( color='#7570b3', linewidth=3)\n",
    "\n",
    "ax.spines['top'].set_visible(False)\n",
    "ax.spines['right'].set_visible(False)\n",
    "ax.get_xaxis().tick_bottom()\n",
    "ax.get_yaxis().tick_left()\n",
    "\n",
    "ax.set_axis_bgcolor('#ffffff')\n",
    "\n",
    "#ax.set_xlim(0,12)\n",
    "#ax.set_ylim(0,50)\n",
    "\n",
    "ax.set_ylabel('Seismic Velocity in Sample [km/s]')\n",
    "ax.set_xticklabels(XLabels);"
   ]
  },
  {
   "cell_type": "code",
   "execution_count": null,
   "metadata": {
    "collapsed": false
   },
   "outputs": [],
   "source": [
    "fig.savefig('Cheese.png', dpi=300, bbox_inches='tight')"
   ]
  },
  {
   "cell_type": "code",
   "execution_count": null,
   "metadata": {
    "collapsed": true
   },
   "outputs": [],
   "source": []
  }
 ],
 "metadata": {
  "kernelspec": {
   "display_name": "Python 3",
   "language": "python",
   "name": "python3"
  },
  "language_info": {
   "codemirror_mode": {
    "name": "ipython",
    "version": 3
   },
   "file_extension": ".py",
   "mimetype": "text/x-python",
   "name": "python",
   "nbconvert_exporter": "python",
   "pygments_lexer": "ipython3",
   "version": "3.4.5"
  }
 },
 "nbformat": 4,
 "nbformat_minor": 0
}
