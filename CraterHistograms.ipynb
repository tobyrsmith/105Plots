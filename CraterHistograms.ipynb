{
 "cells": [
  {
   "cell_type": "markdown",
   "metadata": {},
   "source": [
    "### Crater Histograms"
   ]
  },
  {
   "cell_type": "code",
   "execution_count": 1,
   "metadata": {
    "collapsed": false
   },
   "outputs": [
    {
     "name": "stdout",
     "output_type": "stream",
     "text": [
      "Populating the interactive namespace from numpy and matplotlib\n"
     ]
    }
   ],
   "source": [
    "%pylab inline\n",
    "import numpy as np\n",
    "import matplotlib.pyplot as plt"
   ]
  },
  {
   "cell_type": "code",
   "execution_count": 2,
   "metadata": {
    "collapsed": false
   },
   "outputs": [],
   "source": [
    "DM = np.loadtxt('LCraters.dat', usecols=(0,), unpack=True)\n",
    "DV = np.loadtxt('VenusCratersD.dat', usecols=(1,), unpack=True)\n",
    "#DNA = np.loadtxt('NorthAmericaD.dat', unpack=True)\n",
    "\n",
    "DW = np.loadtxt('World.csv', delimiter= \",\", usecols=(6,), unpack=True)\n",
    "DNA = np.loadtxt('NorthAmerica.csv', delimiter= \",\", usecols=(6,), unpack=True)\n",
    "DAu = np.loadtxt('Australia.csv', delimiter= \",\", usecols=(6,), unpack=True)"
   ]
  },
  {
   "cell_type": "code",
   "execution_count": 3,
   "metadata": {
    "collapsed": false
   },
   "outputs": [],
   "source": [
    "#print DW"
   ]
  },
  {
   "cell_type": "code",
   "execution_count": 4,
   "metadata": {
    "collapsed": false
   },
   "outputs": [],
   "source": [
    "def log_10_product(x, pos):\n",
    "    if (x < 1.0):\n",
    "      return '%4.2f' % (x)\n",
    "    else:\n",
    "      return '%i' % (x)"
   ]
  },
  {
   "cell_type": "code",
   "execution_count": 5,
   "metadata": {
    "collapsed": false
   },
   "outputs": [],
   "source": [
    "tfont = {\n",
    "    'family' : 'DejaVu Serif',\n",
    "    'weight' : 'bold',\n",
    "    'size' : 14}\n",
    "\n",
    "plt.rc('font', **tfont)\n",
    "plt.rc(\"axes\", linewidth=3.0)\n",
    "plt.rc('axes', grid=False)\n",
    "\n",
    "formatter = plt.FuncFormatter(log_10_product)"
   ]
  },
  {
   "cell_type": "code",
   "execution_count": 6,
   "metadata": {
    "collapsed": false
   },
   "outputs": [],
   "source": [
    "# Make sqrt(2) bins\n",
    "\n",
    "n = 17\n",
    "a,b = 1,1\n",
    "\n",
    "Bins = np.zeros(n)\n",
    "\n",
    "for i in range(n):\n",
    "    a,b = b,b*np.sqrt(2)\n",
    "    \n",
    "    Bins[i] = a\n",
    "    \n",
    "Width = (Bins[1:] - Bins[:-1])"
   ]
  },
  {
   "cell_type": "code",
   "execution_count": 7,
   "metadata": {
    "collapsed": false
   },
   "outputs": [],
   "source": [
    "#print Bins, Width"
   ]
  },
  {
   "cell_type": "code",
   "execution_count": 8,
   "metadata": {
    "collapsed": false
   },
   "outputs": [],
   "source": [
    "# HARTMANN’S PRODUCTION FUNCTION\n",
    "# 1.41 km < DL < 64 km\n",
    "# http://adsabs.harvard.edu/abs/2001SSRv...96...55N\n",
    "\n",
    "#log N = −2.616 − 3.82 log DL , DL < 1.41 km\n",
    "#log N = −2.920 − 1.80 log DL , 1.41 km < DL < 64 km\n",
    "#log N = −2.198 − 2.20 log DL , DL > 64 km\n",
    "\n",
    "N = -2.920 - 1.80 * np.log(Bins[:-1])\n",
    "\n",
    "FakeMoon = exp(N) * 1.8e3\n",
    "\n",
    "#print FakeMoon\n",
    "#print len(FakeMoon)"
   ]
  },
  {
   "cell_type": "code",
   "execution_count": 9,
   "metadata": {
    "collapsed": false
   },
   "outputs": [],
   "source": [
    "VHist,BinEdge = np.histogram(DV, bins=Bins)\n",
    "\n",
    "# Venus Surface Area = 460.2 Million sq km\n",
    "\n",
    "VHistNorm = VHist / 460.2\n",
    "\n",
    "#print VHist\n",
    "#print VHistNorm"
   ]
  },
  {
   "cell_type": "code",
   "execution_count": 10,
   "metadata": {
    "collapsed": false
   },
   "outputs": [],
   "source": [
    "NAHist,BinEdge = np.histogram(DNA, bins=Bins)\n",
    "\n",
    "# North America Surface Area = 24.71 Million sq km\n",
    "\n",
    "NAHistNorm = NAHist / 24.71\n",
    "\n",
    "#print NAHist\n",
    "#print NAHistNorm"
   ]
  },
  {
   "cell_type": "code",
   "execution_count": 11,
   "metadata": {
    "collapsed": false
   },
   "outputs": [],
   "source": [
    "WHist,BinEdge = np.histogram(DW, bins=Bins)\n",
    "\n",
    "# Surface Areas (million sq km)\n",
    "\n",
    "# North America = 24.71\n",
    "# South America = 17.84 \n",
    "# Africa = 30.22\n",
    "# Australia = 7.692\n",
    "# Europe = 10.18\n",
    "# AsiaRussia = 44.58\n",
    "\n",
    "# World = 135.2\n",
    "\n",
    "WHistNorm = WHist / 135.2"
   ]
  },
  {
   "cell_type": "code",
   "execution_count": 12,
   "metadata": {
    "collapsed": false
   },
   "outputs": [],
   "source": [
    "AuHist,BinEdge = np.histogram(DAu, bins=Bins)\n",
    "AuHistNorm = AuHist / 7.692"
   ]
  },
  {
   "cell_type": "code",
   "execution_count": 21,
   "metadata": {
    "collapsed": false
   },
   "outputs": [
    {
     "data": {
      "image/png": "[encoded data removed]",
      "text/plain": [
       "<matplotlib.figure.Figure at 0xa1bf16c>"
      ]
     },
     "metadata": {},
     "output_type": "display_data"
    }
   ],
   "source": [
    "X = np.linspace(0,500,500)\n",
    "Y = X**(-2) * 100\n",
    "\n",
    "fig, ax = plt.subplots(1,1)\n",
    "fig.set_size_inches(10,7)\n",
    "\n",
    "#ax.grid(b=True, which='major')\n",
    "\n",
    "ax.set_xscale('log')\n",
    "ax.set_yscale('log', nonposy='clip')\n",
    "ax.set_ylim(0.005,200)\n",
    "ax.set_xlim(1,300)\n",
    "\n",
    "ax.spines['top'].set_visible(False)\n",
    "ax.spines['right'].set_visible(False)\n",
    "\n",
    "ax.get_xaxis().tick_bottom()\n",
    "ax.get_yaxis().tick_left()\n",
    "\n",
    "ax.yaxis.set_major_formatter(formatter)\n",
    "ax.xaxis.set_major_formatter(formatter)\n",
    "\n",
    "ax.set_xlabel('Crater Diameter (km)')\n",
    "ax.set_ylabel('Number per million sq km')\n",
    "\n",
    "\n",
    "ax.bar(Bins[:-1], FakeMoon, width=Width, color='r', label='0.6 Byr Lunar Surface');\n",
    "#ax.bar(Bins[:-1], VHistNorm, width=Width, color='g', alpha=1.0, label='Venus');\n",
    "ax.bar(Bins[:-1], WHistNorm, width=Width, color='b', alpha=1.0, label='Earth');\n",
    "\n",
    "#ax.bar(Bins[:-1], NAHistNorm, width=Width, color='b', alpha=1.0, label='North America');\n",
    "#ax.bar(Bins[:-1], AuHistNorm, width=Width, color='c', alpha=1.0, label='Australia');\n",
    "\n",
    "ax.legend(loc=0);\n",
    "\n",
    "#ax.bar(Bins[:-1], NAHistNorm, width=Width, color='b', alpha=0.5);"
   ]
  },
  {
   "cell_type": "code",
   "execution_count": 14,
   "metadata": {
    "collapsed": false
   },
   "outputs": [
    {
     "name": "stdout",
     "output_type": "stream",
     "text": [
      "1.40373750543\n",
      "0.569526627219\n",
      "1.17361392149\n",
      "1.6900676027\n"
     ]
    }
   ],
   "source": [
    "print DV[np.where(DV>=10)].size / 460.2\n",
    "print DW[np.where(DW>=10)].size / 135.2\n",
    "print DNA[np.where(DNA>=10)].size / 24.71\n",
    "print DAu[np.where(DAu>=10)].size / 7.692\n",
    "\n",
    "# Venus 646 Craters >= 10 km over 460.2 million sq km\n",
    "# N(10) = 1.4\n",
    "\n",
    "# North America 29 craters >= 10 km over 24.71 milliom sq km\n",
    "# N(10) = 1.2"
   ]
  },
  {
   "cell_type": "code",
   "execution_count": 22,
   "metadata": {
    "collapsed": false
   },
   "outputs": [],
   "source": [
    "fig.savefig('EarthCraters.png', dpi=300, bbox_inches='tight',pad_inches=0.05)"
   ]
  },
  {
   "cell_type": "code",
   "execution_count": null,
   "metadata": {
    "collapsed": false
   },
   "outputs": [],
   "source": []
  }
 ],
 "metadata": {
  "kernelspec": {
   "display_name": "Python 3",
   "language": "python",
   "name": "python3"
  },
  "language_info": {
   "codemirror_mode": {
    "name": "ipython",
    "version": 3
   },
   "file_extension": ".py",
   "mimetype": "text/x-python",
   "name": "python",
   "nbconvert_exporter": "python",
   "pygments_lexer": "ipython3",
   "version": "3.4.3"
  }
 },
 "nbformat": 4,
 "nbformat_minor": 0
}
