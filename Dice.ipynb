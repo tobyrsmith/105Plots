{
 "cells": [
  {
   "cell_type": "code",
   "execution_count": 1,
   "metadata": {
    "collapsed": true
   },
   "outputs": [],
   "source": [
    "%matplotlib inline\n",
    "import matplotlib.pyplot as plt\n",
    "import numpy as np\n",
    "\n",
    "from astropy.table import QTable\n",
    "\n",
    "from astropy import units as u\n",
    "from astropy import constants as const"
   ]
  },
  {
   "cell_type": "code",
   "execution_count": 37,
   "metadata": {
    "collapsed": true
   },
   "outputs": [],
   "source": [
    "T = QTable()"
   ]
  },
  {
   "cell_type": "code",
   "execution_count": 38,
   "metadata": {
    "collapsed": false
   },
   "outputs": [],
   "source": [
    "Dice = np.array([2,3,4,5,6,7,8,9,10,11,12])\n",
    "Prob = np.array([1,2,3,4,5,6,5,4,3,2,1]) / 36.0"
   ]
  },
  {
   "cell_type": "code",
   "execution_count": 39,
   "metadata": {
    "collapsed": false
   },
   "outputs": [
    {
     "data": {
      "text/plain": [
       "array([ 0.02777778,  0.05555556,  0.08333333,  0.11111111,  0.13888889,\n",
       "        0.16666667,  0.13888889,  0.11111111,  0.08333333,  0.05555556,\n",
       "        0.02777778])"
      ]
     },
     "execution_count": 39,
     "metadata": {},
     "output_type": "execute_result"
    }
   ],
   "source": [
    "Prob"
   ]
  },
  {
   "cell_type": "code",
   "execution_count": 49,
   "metadata": {
    "collapsed": false
   },
   "outputs": [],
   "source": [
    "T['Dice'] = Dice\n",
    "T['Prob'] = Prob\n",
    "T['Two'] = T['Prob'] / (6/36)"
   ]
  },
  {
   "cell_type": "code",
   "execution_count": 50,
   "metadata": {
    "collapsed": true
   },
   "outputs": [],
   "source": [
    "T['25'] = T['Prob'] * 25"
   ]
  },
  {
   "cell_type": "code",
   "execution_count": 51,
   "metadata": {
    "collapsed": false
   },
   "outputs": [
    {
     "data": {
      "text/html": [
       "&lt;QTable length=11&gt;\n",
       "<table id=\"table140129095078968\">\n",
       "<thead><tr><th>Dice</th><th>Prob</th><th>Two</th><th>25</th></tr></thead>\n",
       "<thead><tr><th>int64</th><th>float64</th><th>float64</th><th>float64</th></tr></thead>\n",
       "<tr><td>2</td><td>0.0277777777778</td><td>0.166666666667</td><td>0.694444444444</td></tr>\n",
       "<tr><td>3</td><td>0.0555555555556</td><td>0.333333333333</td><td>1.38888888889</td></tr>\n",
       "<tr><td>4</td><td>0.0833333333333</td><td>0.5</td><td>2.08333333333</td></tr>\n",
       "<tr><td>5</td><td>0.111111111111</td><td>0.666666666667</td><td>2.77777777778</td></tr>\n",
       "<tr><td>6</td><td>0.138888888889</td><td>0.833333333333</td><td>3.47222222222</td></tr>\n",
       "<tr><td>7</td><td>0.166666666667</td><td>1.0</td><td>4.16666666667</td></tr>\n",
       "<tr><td>8</td><td>0.138888888889</td><td>0.833333333333</td><td>3.47222222222</td></tr>\n",
       "<tr><td>9</td><td>0.111111111111</td><td>0.666666666667</td><td>2.77777777778</td></tr>\n",
       "<tr><td>10</td><td>0.0833333333333</td><td>0.5</td><td>2.08333333333</td></tr>\n",
       "<tr><td>11</td><td>0.0555555555556</td><td>0.333333333333</td><td>1.38888888889</td></tr>\n",
       "<tr><td>12</td><td>0.0277777777778</td><td>0.166666666667</td><td>0.694444444444</td></tr>\n",
       "</table>"
      ],
      "text/plain": [
       "<QTable length=11>\n",
       " Dice       Prob           Two             25      \n",
       "int64     float64        float64        float64    \n",
       "----- --------------- -------------- --------------\n",
       "    2 0.0277777777778 0.166666666667 0.694444444444\n",
       "    3 0.0555555555556 0.333333333333  1.38888888889\n",
       "    4 0.0833333333333            0.5  2.08333333333\n",
       "    5  0.111111111111 0.666666666667  2.77777777778\n",
       "    6  0.138888888889 0.833333333333  3.47222222222\n",
       "    7  0.166666666667            1.0  4.16666666667\n",
       "    8  0.138888888889 0.833333333333  3.47222222222\n",
       "    9  0.111111111111 0.666666666667  2.77777777778\n",
       "   10 0.0833333333333            0.5  2.08333333333\n",
       "   11 0.0555555555556 0.333333333333  1.38888888889\n",
       "   12 0.0277777777778 0.166666666667 0.694444444444"
      ]
     },
     "execution_count": 51,
     "metadata": {},
     "output_type": "execute_result"
    }
   ],
   "source": [
    "T"
   ]
  },
  {
   "cell_type": "code",
   "execution_count": 34,
   "metadata": {
    "collapsed": true
   },
   "outputs": [],
   "source": [
    "t = np.linspace(0,2,1000)"
   ]
  },
  {
   "cell_type": "code",
   "execution_count": 35,
   "metadata": {
    "collapsed": false
   },
   "outputs": [],
   "source": [
    "N0 = 100\n",
    "\n",
    "N = N0 * np.exp(-t * np.log(2))\n",
    "\n",
    "N2 = N0 * np.exp(-t * (np.log(2)/2))\n",
    "\n",
    "N3 = N0 * np.exp(-t * (np.log(2) * 2))"
   ]
  },
  {
   "cell_type": "code",
   "execution_count": 36,
   "metadata": {
    "collapsed": false
   },
   "outputs": [
    {
     "data": {
      "text/plain": [
       "[<matplotlib.lines.Line2D at 0x7f7258e30a58>]"
      ]
     },
     "execution_count": 36,
     "metadata": {},
     "output_type": "execute_result"
    },
    {
     "data": {
      "image/png": "[encoded data removed]",
      "text/plain": [
       "<matplotlib.figure.Figure at 0x7f7258eda0b8>"
      ]
     },
     "metadata": {},
     "output_type": "display_data"
    }
   ],
   "source": [
    "plt.plot(t,N)\n",
    "plt.plot(t,N2)\n",
    "plt.plot(t,N3)"
   ]
  },
  {
   "cell_type": "code",
   "execution_count": null,
   "metadata": {
    "collapsed": true
   },
   "outputs": [],
   "source": []
  }
 ],
 "metadata": {
  "kernelspec": {
   "display_name": "Python 3",
   "language": "python",
   "name": "python3"
  },
  "language_info": {
   "codemirror_mode": {
    "name": "ipython",
    "version": 3
   },
   "file_extension": ".py",
   "mimetype": "text/x-python",
   "name": "python",
   "nbconvert_exporter": "python",
   "pygments_lexer": "ipython3",
   "version": "3.5.1"
  }
 },
 "nbformat": 4,
 "nbformat_minor": 0
}
