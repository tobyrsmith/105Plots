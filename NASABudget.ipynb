{
 "cells": [
  {
   "cell_type": "code",
   "execution_count": null,
   "metadata": {
    "collapsed": false
   },
   "outputs": [],
   "source": [
    "%matplotlib inline\n",
    "\n",
    "import pandas as pd\n",
    "import numpy as np\n",
    "\n",
    "import matplotlib.pyplot as plt"
   ]
  },
  {
   "cell_type": "code",
   "execution_count": null,
   "metadata": {
    "collapsed": true
   },
   "outputs": [],
   "source": [
    "tfont = {\n",
    "    'family' : 'DejaVu Serif',\n",
    "    'weight' : 'bold',\n",
    "    'size' : 14}\n",
    "\n",
    "plt.rc('font', **tfont)\n",
    "plt.rc(\"axes\", linewidth=3.0)\n",
    "plt.rc('axes', grid=False)"
   ]
  },
  {
   "cell_type": "code",
   "execution_count": null,
   "metadata": {
    "collapsed": true
   },
   "outputs": [],
   "source": [
    "#plt.style.use('ggplot')\n",
    "plt.style.use('fivethirtyeight')\n",
    "#plt.style.use('bmh')"
   ]
  },
  {
   "cell_type": "code",
   "execution_count": null,
   "metadata": {
    "collapsed": false
   },
   "outputs": [],
   "source": [
    "df = pd.read_csv('NasaBudget.csv')\n",
    "\n",
    "df[0:5]"
   ]
  },
  {
   "cell_type": "code",
   "execution_count": null,
   "metadata": {
    "collapsed": false
   },
   "outputs": [],
   "source": [
    "fig, ax1 = plt.subplots(1,1)\n",
    "fig.set_size_inches(16,9)\n",
    "\n",
    "#ax1.set_xlim(1955,2015)\n",
    "ax1.set_xlim(1957,1973)\n",
    "\n",
    "ax1.set_xlabel('Year')\n",
    "ax1.set_ylabel('Percentage of Federal Budget')\n",
    "\n",
    "ax1.bar(df['Year'],df['PBud'], width=1.0 ,color='r', edgecolor = 'r', align = 'center', alpha = 0.5);"
   ]
  },
  {
   "cell_type": "code",
   "execution_count": null,
   "metadata": {
    "collapsed": false
   },
   "outputs": [],
   "source": [
    "fig.savefig('NasaBudget.png', dpi=300, bbox_inches='tight',pad_inches=0.05)"
   ]
  },
  {
   "cell_type": "code",
   "execution_count": null,
   "metadata": {
    "collapsed": false
   },
   "outputs": [],
   "source": [
    "T = pd.read_csv('ApolloCost.csv')\n",
    "T[0:2]"
   ]
  },
  {
   "cell_type": "code",
   "execution_count": null,
   "metadata": {
    "collapsed": false
   },
   "outputs": [],
   "source": [
    "fig, ax1 = plt.subplots(1,1)\n",
    "fig.set_size_inches(8,9)\n",
    "\n",
    "#ax1.set_xlim(1955,2015)\n",
    "ax1.set_xlim(1961,1973)\n",
    "\n",
    "ax1.set_xlabel('Year')\n",
    "ax1.set_ylabel('Apollo Cost [$ Billion]')\n",
    "\n",
    "ax1.bar(T['Year'],T['Apollo'], width=1.0 ,color='r', edgecolor = 'r', align = 'center', alpha = 0.5);"
   ]
  },
  {
   "cell_type": "code",
   "execution_count": null,
   "metadata": {
    "collapsed": true
   },
   "outputs": [],
   "source": [
    "fig.savefig('ApolloCost.png', dpi=300, bbox_inches='tight',pad_inches=0.05)"
   ]
  },
  {
   "cell_type": "code",
   "execution_count": null,
   "metadata": {
    "collapsed": false
   },
   "outputs": [],
   "source": [
    "TTotal = T['Apollo'].cumsum()\n",
    "TTotal"
   ]
  },
  {
   "cell_type": "code",
   "execution_count": null,
   "metadata": {
    "collapsed": false
   },
   "outputs": [],
   "source": [
    "fig, ax1 = plt.subplots(1,1)\n",
    "fig.set_size_inches(8,9)\n",
    "\n",
    "#ax1.set_xlim(1955,2015)\n",
    "ax1.set_xlim(1961,1973)\n",
    "\n",
    "ax1.set_xlabel('Year')\n",
    "ax1.set_ylabel('Total Apollo Cost [$ Billion]')\n",
    "\n",
    "ax1.bar(T['Year'],TTotal, width=1.0 ,color='b', edgecolor = 'b', align = 'center', alpha = 0.5);"
   ]
  },
  {
   "cell_type": "code",
   "execution_count": null,
   "metadata": {
    "collapsed": true
   },
   "outputs": [],
   "source": [
    "fig.savefig('ApolloCostTotal.png', dpi=300, bbox_inches='tight',pad_inches=0.05)"
   ]
  },
  {
   "cell_type": "markdown",
   "metadata": {},
   "source": [
    "### Data from http://chronicle.nytlabs.com/?keyword=Apollo, http://chronicle.nytlabs.com/?keyword=Apollo%20&%20Moon"
   ]
  },
  {
   "cell_type": "code",
   "execution_count": null,
   "metadata": {
    "collapsed": false
   },
   "outputs": [],
   "source": [
    "nyt = pd.read_json('NYT_ApolloMoon.json')"
   ]
  },
  {
   "cell_type": "code",
   "execution_count": null,
   "metadata": {
    "collapsed": false
   },
   "outputs": [],
   "source": [
    "nyt[0:5]"
   ]
  },
  {
   "cell_type": "code",
   "execution_count": null,
   "metadata": {
    "collapsed": false
   },
   "outputs": [],
   "source": [
    "PPub = nyt['article_matches'] / nyt['total_articles_published'] * 100\n",
    "\n",
    "PPub[0:5]"
   ]
  },
  {
   "cell_type": "code",
   "execution_count": null,
   "metadata": {
    "collapsed": false
   },
   "outputs": [],
   "source": [
    "fig, ax1 = plt.subplots(1,1)\n",
    "fig.set_size_inches(16,9)\n",
    "\n",
    "ax1.set_xlim(1955,2015)\n",
    "\n",
    "ax1.set_xlabel('Year')\n",
    "ax1.set_ylabel('Percentage of NYT Articles - Apollo')\n",
    "\n",
    "ax1.bar(nyt['year'],PPub, width=1.0 ,color='b', edgecolor = 'b', align = 'center', alpha = 0.5);"
   ]
  },
  {
   "cell_type": "code",
   "execution_count": null,
   "metadata": {
    "collapsed": false
   },
   "outputs": [],
   "source": [
    "fig.savefig('ApolloNYT.png', dpi=300, bbox_inches='tight',pad_inches=0.05)"
   ]
  },
  {
   "cell_type": "markdown",
   "metadata": {},
   "source": [
    "### Data from http://chronicle.nytlabs.com/?keyword=%22Space%20Shuttle%22"
   ]
  },
  {
   "cell_type": "code",
   "execution_count": null,
   "metadata": {
    "collapsed": false
   },
   "outputs": [],
   "source": [
    "stl = pd.read_json('NYT_Shuttle.json')\n",
    "stl[0:10]"
   ]
  },
  {
   "cell_type": "code",
   "execution_count": null,
   "metadata": {
    "collapsed": false
   },
   "outputs": [],
   "source": [
    "PSPub = stl['article_matches'] / stl['total_articles_published'] * 100\n",
    "PSPub[0:10]"
   ]
  },
  {
   "cell_type": "code",
   "execution_count": null,
   "metadata": {
    "collapsed": false
   },
   "outputs": [],
   "source": [
    "fig, ax1 = plt.subplots(1,1)\n",
    "fig.set_size_inches(16,9)\n",
    "\n",
    "ax1.set_xlim(1955,2015)\n",
    "\n",
    "ax1.set_xlabel('Year')\n",
    "ax1.set_ylabel('Percentage of NYT Articles - Shuttle')\n",
    "\n",
    "ax1.spines['top'].set_visible(False)\n",
    "ax1.spines['right'].set_visible(False)\n",
    "ax1.get_xaxis().tick_bottom()\n",
    "ax1.get_yaxis().tick_left()\n",
    "\n",
    "ax1.bar(stl['year'],PSPub, width=1.0 ,color='g', edgecolor = 'g', align = 'center', alpha = 0.5);"
   ]
  },
  {
   "cell_type": "code",
   "execution_count": null,
   "metadata": {
    "collapsed": false
   },
   "outputs": [],
   "source": [
    "fig, ax1 = plt.subplots(1,1)\n",
    "fig.set_size_inches(16,9)\n",
    "\n",
    "ax2 = ax1.twinx()\n",
    "ax2.set_frame_on(True)\n",
    "ax2.patch.set_visible(False)\n",
    "\n",
    "ax1.grid(b=False)\n",
    "ax2.grid(b=False)\n",
    "\n",
    "ax1.set_xlim(1955,2015)\n",
    "\n",
    "ax1.set_xlabel('Year')\n",
    "ax1.set_ylabel('Percentage of Federal Budget')\n",
    "\n",
    "ax1.spines['top'].set_visible(False)\n",
    "ax1.spines['right'].set_visible(False)\n",
    "ax1.get_xaxis().tick_bottom()\n",
    "ax1.get_yaxis().tick_left()\n",
    "\n",
    "ax1.bar(df['Year'],df['PBud'], width=1.0 ,color='r', edgecolor = 'r', align = 'center', alpha = 0.9)\n",
    "ax2.bar(nyt['year'],PPub, width=1.0 ,color='b', edgecolor = 'b', align = 'center', alpha = 0.5)\n",
    "ax2.bar(stl['year'],PSPub, width=1.0 ,color='g', edgecolor = 'g', align = 'center', alpha = 0.5);"
   ]
  },
  {
   "cell_type": "code",
   "execution_count": null,
   "metadata": {
    "collapsed": false
   },
   "outputs": [],
   "source": [
    "fig, ax = plt.subplots(2,1,sharex=True)\n",
    "fig.set_size_inches(16,9)\n",
    "\n",
    "fig.subplots_adjust(hspace=0.075)\n",
    "\n",
    "ax[0].set_xlim(1955,2015)\n",
    "\n",
    "ax[1].set_xlabel('Year')\n",
    "ax[1].set_ylabel('% of NYT Articles')\n",
    "ax[0].set_ylabel('% of Federal Budget')\n",
    "\n",
    "ax[0].bar(df['Year'],df['PBud'], width=1.0 ,color='r', edgecolor = 'r', align = 'center', alpha = 0.7)\n",
    "ax[1].bar(nyt['year'],PPub, width=1.0 ,color='b', edgecolor = 'b', align = 'center', alpha = 0.7)\n",
    "#ax2.bar(stl['year'],PSPub, width=1.0 ,color='g', edgecolor = 'g', align = 'center', alpha = 0.5);"
   ]
  },
  {
   "cell_type": "code",
   "execution_count": null,
   "metadata": {
    "collapsed": false
   },
   "outputs": [],
   "source": [
    "fig.savefig('Budget_Apollo.png', dpi=300, bbox_inches='tight',pad_inches=0.05)"
   ]
  },
  {
   "cell_type": "code",
   "execution_count": null,
   "metadata": {
    "collapsed": false
   },
   "outputs": [],
   "source": []
  }
 ],
 "metadata": {
  "kernelspec": {
   "display_name": "Python 3",
   "language": "python",
   "name": "python3"
  },
  "language_info": {
   "codemirror_mode": {
    "name": "ipython",
    "version": 3
   },
   "file_extension": ".py",
   "mimetype": "text/x-python",
   "name": "python",
   "nbconvert_exporter": "python",
   "pygments_lexer": "ipython3",
   "version": "3.4.4"
  }
 },
 "nbformat": 4,
 "nbformat_minor": 0
}
