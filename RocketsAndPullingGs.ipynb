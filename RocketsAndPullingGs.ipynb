{
 "cells": [
  {
   "cell_type": "code",
   "execution_count": null,
   "metadata": {
    "collapsed": false
   },
   "outputs": [],
   "source": [
    "%matplotlib inline\n",
    "import matplotlib.pyplot as plt\n",
    "import pandas as pd\n",
    "import numpy as np"
   ]
  },
  {
   "cell_type": "code",
   "execution_count": null,
   "metadata": {
    "collapsed": true
   },
   "outputs": [],
   "source": [
    "plt.style.use('ggplot')\n",
    "#plt.style.use('fivethirtyeight')\n",
    "#plt.style.use('bmh')"
   ]
  },
  {
   "cell_type": "code",
   "execution_count": null,
   "metadata": {
    "collapsed": true
   },
   "outputs": [],
   "source": [
    "tfont = {\n",
    "    'family' : 'DejaVu Serif',\n",
    "    'weight' : 'bold',\n",
    "    'size' : 14}\n",
    "\n",
    "afont = {\n",
    "    'family' : 'DejaVu Serif',\n",
    "    'weight' : 'bold',\n",
    "    'size' : 20}\n",
    "\n",
    "plt.rc('font', **tfont)\n",
    "plt.rc(\"axes\", linewidth=3.0)\n",
    "#plt.rc('axes', grid=False)"
   ]
  },
  {
   "cell_type": "markdown",
   "metadata": {},
   "source": [
    "### Rocket $\\Delta$V"
   ]
  },
  {
   "cell_type": "code",
   "execution_count": null,
   "metadata": {
    "collapsed": false
   },
   "outputs": [],
   "source": [
    "x = np.linspace(0,100,1000)\n",
    "y = 3 * np.log(1/(x/100))"
   ]
  },
  {
   "cell_type": "code",
   "execution_count": null,
   "metadata": {
    "collapsed": false
   },
   "outputs": [],
   "source": [
    "fig, ax1 = plt.subplots(1,1)\n",
    "fig.set_size_inches(16,9)\n",
    "\n",
    "ax1.set_xlim(-2,60)\n",
    "ax1.set_ylim(0,20)\n",
    "\n",
    "ax1.set_xlabel('% of Rocket that is Payload', **afont)\n",
    "ax1.set_ylabel('$\\Delta$V [km/s]', **afont)\n",
    "\n",
    "ax1.plot(x,y);"
   ]
  },
  {
   "cell_type": "code",
   "execution_count": null,
   "metadata": {
    "collapsed": true
   },
   "outputs": [],
   "source": [
    "fig.savefig('DeltaV.png', dpi=300, bbox_inches='tight',pad_inches=0.05)"
   ]
  },
  {
   "cell_type": "markdown",
   "metadata": {},
   "source": [
    "### Pulling Gs"
   ]
  },
  {
   "cell_type": "code",
   "execution_count": null,
   "metadata": {
    "collapsed": false
   },
   "outputs": [],
   "source": [
    "EC = pd.read_csv('EarthCenter.csv', comment='#')\n",
    "EF = pd.read_csv('EarthFixed.csv', comment='#')"
   ]
  },
  {
   "cell_type": "code",
   "execution_count": null,
   "metadata": {
    "collapsed": false
   },
   "outputs": [],
   "source": [
    "print EC[-5:]"
   ]
  },
  {
   "cell_type": "code",
   "execution_count": null,
   "metadata": {
    "collapsed": false
   },
   "outputs": [],
   "source": [
    "print EF[-5:]"
   ]
  },
  {
   "cell_type": "code",
   "execution_count": null,
   "metadata": {
    "collapsed": false
   },
   "outputs": [],
   "source": [
    "T = EF['Time']\n",
    "D = np.sqrt(EF['XS']**2 + EF['YS']**2 + EF['ZS']**2)"
   ]
  },
  {
   "cell_type": "code",
   "execution_count": null,
   "metadata": {
    "collapsed": false
   },
   "outputs": [],
   "source": [
    "print D[-5:]"
   ]
  },
  {
   "cell_type": "code",
   "execution_count": null,
   "metadata": {
    "collapsed": false
   },
   "outputs": [],
   "source": [
    "V = np.sqrt(EF['DXS']**2 + EF['DYS']**2 + EF['DZS']**2) / 1000.0"
   ]
  },
  {
   "cell_type": "code",
   "execution_count": null,
   "metadata": {
    "collapsed": false
   },
   "outputs": [],
   "source": [
    "print V[-5:]"
   ]
  },
  {
   "cell_type": "code",
   "execution_count": null,
   "metadata": {
    "collapsed": false
   },
   "outputs": [],
   "source": [
    "A = np.sqrt(EF['DDXS']**2 + EF['DDYS']**2 + EF['DDZS']**2)\n",
    "AC = np.sqrt(EC['DDXS']**2 + EC['DDYS']**2 + EC['DDZS']**2)"
   ]
  },
  {
   "cell_type": "code",
   "execution_count": null,
   "metadata": {
    "collapsed": false
   },
   "outputs": [],
   "source": [
    "print A[-5:]"
   ]
  },
  {
   "cell_type": "code",
   "execution_count": null,
   "metadata": {
    "collapsed": false
   },
   "outputs": [],
   "source": [
    "fig = plt.figure()\n",
    "ax1 = fig.add_subplot(111)\n",
    "\n",
    "fig.set_size_inches(10,7)\n",
    "fig.tight_layout()\n",
    "\n",
    "ax1.set_xlabel('Time [s]')\n",
    "ax1.set_ylabel('Distance [km]')\n",
    "\n",
    "#ax1.set_xlim(-0,100)\n",
    "#ax1.set_ylim(-0,100)\n",
    "\n",
    "Dk = D/1000.0\n",
    "\n",
    "ax1.plot(T,Dk,color='m', linewidth=2);"
   ]
  },
  {
   "cell_type": "code",
   "execution_count": null,
   "metadata": {
    "collapsed": false
   },
   "outputs": [],
   "source": [
    "fig = plt.figure()\n",
    "ax1 = fig.add_subplot(111)\n",
    "\n",
    "fig.set_size_inches(10,7)\n",
    "fig.tight_layout()\n",
    "\n",
    "ax1.set_xlabel('Time [s]')\n",
    "ax1.set_ylabel('Velocity [km/s]')\n",
    "\n",
    "#ax1.set_xlim(-0,100)\n",
    "#ax1.set_ylim(-0,100)\n",
    "\n",
    "ax1.plot(T,V,color='m', linewidth=2);"
   ]
  },
  {
   "cell_type": "code",
   "execution_count": null,
   "metadata": {
    "collapsed": false
   },
   "outputs": [],
   "source": [
    "fig = plt.figure()\n",
    "ax1 = fig.add_subplot(111)\n",
    "\n",
    "fig.set_size_inches(10,7)\n",
    "fig.tight_layout()\n",
    "\n",
    "ax1.set_xlabel('Time [s]')\n",
    "ax1.set_ylabel('Acceleration [m/s$^2$]')\n",
    "\n",
    "#ax1.set_xlim(-0,100)\n",
    "#ax1.set_ylim(-0,100)\n",
    "\n",
    "#G = A/9.81 + 1\n",
    "\n",
    "ax1.plot(T,A,color='c', linewidth=2)\n",
    "ax1.plot(T,AC,color='m', linewidth=2);"
   ]
  },
  {
   "cell_type": "code",
   "execution_count": null,
   "metadata": {
    "collapsed": false
   },
   "outputs": [],
   "source": [
    "EF['A'] = A\n",
    "EF['V'] = V"
   ]
  },
  {
   "cell_type": "code",
   "execution_count": null,
   "metadata": {
    "collapsed": false
   },
   "outputs": [],
   "source": [
    "print EF[['Time','V']][0:3]"
   ]
  },
  {
   "cell_type": "code",
   "execution_count": null,
   "metadata": {
    "collapsed": false
   },
   "outputs": [],
   "source": [
    "print EF.to_latex(columns=['Time','V'],index=False)"
   ]
  },
  {
   "cell_type": "code",
   "execution_count": null,
   "metadata": {
    "collapsed": false
   },
   "outputs": [],
   "source": []
  }
 ],
 "metadata": {
  "kernelspec": {
   "display_name": "Python 3",
   "language": "python",
   "name": "python3"
  },
  "language_info": {
   "codemirror_mode": {
    "name": "ipython",
    "version": 3
   },
   "file_extension": ".py",
   "mimetype": "text/x-python",
   "name": "python",
   "nbconvert_exporter": "python",
   "pygments_lexer": "ipython3",
   "version": "3.4.3"
  }
 },
 "nbformat": 4,
 "nbformat_minor": 0
}
