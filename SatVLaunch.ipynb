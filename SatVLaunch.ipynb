{
 "metadata": {
  "name": "",
  "signature": "sha256:2cfb932ede7927b55352a07eb2e32b26379f5c84c7744bb73795c5f001a141cd"
 },
 "nbformat": 3,
 "nbformat_minor": 0,
 "worksheets": [
  {
   "cells": [
    {
     "cell_type": "code",
     "collapsed": false,
     "input": [
      "import matplotlib\n",
      "reload(matplotlib)"
     ],
     "language": "python",
     "metadata": {},
     "outputs": [
      {
       "metadata": {},
       "output_type": "pyout",
       "prompt_number": 7,
       "text": [
        "<module 'matplotlib' from '/home/toby/anaconda/lib/python2.7/site-packages/matplotlib/__init__.pyc'>"
       ]
      }
     ],
     "prompt_number": 7
    },
    {
     "cell_type": "code",
     "collapsed": false,
     "input": [
      "%matplotlib inline\n",
      "import matplotlib.pyplot as plt\n",
      "import pandas as pd\n",
      "import numpy as np"
     ],
     "language": "python",
     "metadata": {},
     "outputs": [],
     "prompt_number": 2
    },
    {
     "cell_type": "code",
     "collapsed": false,
     "input": [
      "EC = pd.read_csv('EarthCenter.csv', comment='#')\n",
      "EF = pd.read_csv('EarthFixed.csv', comment='#')"
     ],
     "language": "python",
     "metadata": {},
     "outputs": [],
     "prompt_number": 3
    },
    {
     "cell_type": "code",
     "collapsed": false,
     "input": [
      "print EC[0:5]"
     ],
     "language": "python",
     "metadata": {},
     "outputs": []
    },
    {
     "cell_type": "code",
     "collapsed": false,
     "input": [
      "print EF[150:160]"
     ],
     "language": "python",
     "metadata": {},
     "outputs": []
    },
    {
     "cell_type": "code",
     "collapsed": false,
     "input": [
      "from mpl_toolkits.mplot3d import Axes3D"
     ],
     "language": "python",
     "metadata": {},
     "outputs": []
    },
    {
     "cell_type": "code",
     "collapsed": false,
     "input": [
      "fig = plt.figure()\n",
      "ax1 = fig.add_subplot(111)\n",
      "ax1.set_aspect('equal')\n",
      "fig.set_size_inches(10,7)\n",
      "fig.tight_layout()\n",
      "\n",
      "Range = 10\n",
      "Top = 5\n",
      "\n",
      "x = np.linspace(0,Range,1000)\n",
      "x0 = np.zeros(t.size)\n",
      "\n",
      "a = -Top / ((Range/2.0)**2)\n",
      "\n",
      "y = a * (x - (Range/2.0)) ** 2 + Top\n",
      "\n",
      "ax1.set_xlabel('X')\n",
      "ax1.set_ylabel('Y')\n",
      "\n",
      "View = 10\n",
      "\n",
      "ax1.set_xlim(-View,View)\n",
      "ax1.set_ylim(-View,View)\n",
      "\n",
      "ax1.plot(x,y,color='m', linewidth=2);"
     ],
     "language": "python",
     "metadata": {},
     "outputs": []
    },
    {
     "cell_type": "code",
     "collapsed": false,
     "input": [
      "def RotX(ang,X,Y,Z):\n",
      "\n",
      "    spin = np.radians(ang)\n",
      "\n",
      "    XR = X\n",
      "    YR = Y * np.cos(spin) - Z * np.sin(spin)\n",
      "    ZR = Y * np.sin(spin) + Z * np.cos(spin)\n",
      "    \n",
      "    return XR,YR,ZR\n",
      "\n",
      "def RotY(ang,X,Y,Z):\n",
      "\n",
      "    spin = np.radians(ang)\n",
      "\n",
      "    XR = Z * np.sin(spin) + X * np.cos(spin)\n",
      "    YR = Y\n",
      "    ZR = Z * np.cos(spin) - X * np.sin(spin)\n",
      "    \n",
      "    return XR,YR,ZR\n",
      "\n",
      "def RotZ(ang,X,Y,Z):\n",
      "\n",
      "    spin = np.radians(ang)\n",
      "\n",
      "    XR = X * np.cos(spin) - Y * np.sin(spin)\n",
      "    YR = X * np.sin(spin) + Y * np.cos(spin)\n",
      "    ZR = Z\n",
      "    \n",
      "    return XR,YR,ZR"
     ],
     "language": "python",
     "metadata": {},
     "outputs": []
    },
    {
     "cell_type": "code",
     "collapsed": false,
     "input": [
      "fig = plt.figure()\n",
      "ax1 = fig.add_subplot(111, projection='3d')\n",
      "ax1.set_aspect('equal')\n",
      "fig.set_size_inches(10,7)\n",
      "fig.tight_layout()\n",
      "\n",
      "#ax1.view_init(0, 0)\n",
      "\n",
      "theta = np.linspace(0, 2 * np.pi, 1000)\n",
      "\n",
      "t = np.linspace(-100,100,1000)\n",
      "t0 = np.zeros(t.size)\n",
      "\n",
      "r = 10\n",
      "\n",
      "XC = r * np.cos(theta)\n",
      "YC = r * np.sin(theta)\n",
      "ZC = 0\n",
      "\n",
      "XP = np.linspace(-1,1,1000)\n",
      "YP = np.zeros(XP.size)\n",
      "ZP = -10 * (XP ** 2) + 10\n",
      "\n",
      "XX,YX,ZX = RotY(60.0,XC,YC,ZC)\n",
      "\n",
      "ax1.set_xlabel('X')\n",
      "ax1.set_ylabel('Y')\n",
      "ax1.set_zlabel('Z')\n",
      "\n",
      "View = r + (r * 0.1)\n",
      "\n",
      "ax1.set_xlim(-View,View)\n",
      "ax1.set_ylim(-View,View)\n",
      "ax1.set_zlim(-View,View)\n",
      "\n",
      "ax1.plot(XP,YP,ZP,color='m', linewidth=2)\n",
      "\n",
      "ax1.plot(t,t0,t0,color='r', linewidth=2)\n",
      "ax1.plot(t0,t,t0,color='g', linewidth=2)\n",
      "ax1.plot(t0,t0,t,color='b', linewidth=2)\n",
      "#ax1.plot(XX,YX,ZX,color='m', linewidth=2)\n",
      "ax1.plot(XC,YC,ZC,color='m', linewidth=1, linestyle = '--');"
     ],
     "language": "python",
     "metadata": {},
     "outputs": []
    },
    {
     "cell_type": "code",
     "collapsed": false,
     "input": [
      "fig = plt.figure()\n",
      "ax1 = fig.add_subplot(111, projection='3d')\n",
      "ax1.set_aspect('equal')\n",
      "fig.set_size_inches(10,7)\n",
      "fig.tight_layout()\n",
      "\n",
      "t = np.linspace(-110,110,1000)\n",
      "t0 = np.zeros(t.size)\n",
      "\n",
      "u = np.linspace(0, 2 * np.pi, 100)\n",
      "v = np.linspace(0, np.pi, 100)\n",
      "\n",
      "offset = 0\n",
      "\n",
      "x = 100 * np.outer(np.cos(u), np.sin(v))\n",
      "y = 100 * np.outer(np.sin(u), np.sin(v))\n",
      "z = 100 * np.outer(np.ones(np.size(u)), np.cos(v))\n",
      "\n",
      "ax1.set_xlabel('X')\n",
      "ax1.set_ylabel('Y')\n",
      "ax1.set_zlabel('Z')\n",
      "\n",
      "xx,yy,zz = RotX(90,x,y,z)\n",
      "\n",
      "ax1.plot(t,t0,t0,color='r', linewidth=2)\n",
      "ax1.plot(t0,t,t0,color='g', linewidth=2)\n",
      "ax1.plot(t0,t0,t,color='b', linewidth=2)\n",
      "ax1.plot_surface(xx, yy, zz,  rstride=4, cstride=4, color='b');\n"
     ],
     "language": "python",
     "metadata": {},
     "outputs": []
    },
    {
     "cell_type": "code",
     "collapsed": false,
     "input": [
      "T = EF['Time']\n",
      "\n",
      "X = np.array(EF['YS'])\n",
      "Y = np.array(EF['ZS'])\n",
      "Z = np.array(EF['XS'])\n",
      "\n",
      "Stage1 = np.where(T < 163.0)\n",
      "Stage2 = np.where((T > 163.0) & (T < 560.0))\n",
      "Stage3 = np.where(T > 560.0)"
     ],
     "language": "python",
     "metadata": {},
     "outputs": []
    },
    {
     "cell_type": "code",
     "collapsed": false,
     "input": [
      "fig = plt.figure()\n",
      "\n",
      "ax1 = fig.add_subplot(111, projection='3d')\n",
      "ax1.set_aspect('equal')\n",
      "ax1.set_axis_off()\n",
      "\n",
      "fig.set_size_inches(10,7)\n",
      "fig.tight_layout()\n",
      "\n",
      "View = 2000000\n",
      "\n",
      "ax1.set_xlim(0,View)\n",
      "ax1.set_ylim(0,View)\n",
      "ax1.set_zlim(0,View)\n",
      "\n",
      "ax1.set_xlabel('Y')\n",
      "ax1.set_ylabel('Z')\n",
      "ax1.set_zlabel('X')\n",
      "\n",
      "#ax1.plot(X,Y,Z,color='r', linewidth=2)\n",
      "ax1.plot(X[Stage1],Y[Stage1],Z[Stage1],color='r', linewidth=2)\n",
      "ax1.plot(X[Stage2],Y[Stage2],Z[Stage2],color='y', linewidth=2)\n",
      "ax1.plot(X[Stage3],Y[Stage3],Z[Stage3],color='g', linewidth=2)\n",
      "\n",
      "ax1.dist = 8\n",
      "\n",
      "ax1.view_init(0, 0)\n",
      "\n",
      "u = np.linspace(0, 2 * np.pi, 250)\n",
      "v = np.linspace(0, np.pi, 250)\n",
      "\n",
      "Size = 6373382\n",
      "offset = 112 - Size\n",
      "\n",
      "x = Size * np.outer(np.cos(u), np.sin(v))\n",
      "y = Size * np.outer(np.sin(u), np.sin(v))\n",
      "z = Size * np.outer(np.ones(np.size(u)), np.cos(v))\n",
      "\n",
      "Orbit = Size + 190000\n",
      "\n",
      "xc = Orbit * np.cos(u)\n",
      "yc = Orbit * np.sin(u)\n",
      "zc = np.zeros(xc.size)\n",
      "\n",
      "pTop = 187400\n",
      "pRange = 483000\n",
      "\n",
      "a = -pTop / ((pRange/2.0)**2)\n",
      "\n",
      "yp = np.linspace(0,pRange,1000)\n",
      "xp = np.zeros(XP.size)\n",
      "zp = a * ((yp - (pRange/2.0)) ** 2) + pTop\n",
      "\n",
      "ax1.plot(zc,yc,xc + offset,color='m', linewidth=1, linestyle = '--')\n",
      "\n",
      "ax1.plot(xp,yp,zp,color='c', linewidth=2, linestyle = '-')\n",
      "\n",
      "ax1.plot_surface(z, y, x + offset,  rstride=5, cstride=5, color='b');"
     ],
     "language": "python",
     "metadata": {},
     "outputs": []
    },
    {
     "cell_type": "code",
     "collapsed": false,
     "input": [
      "fig = plt.figure()\n",
      "ax1 = fig.add_subplot(111)\n",
      "#ax1.set_aspect('equal')\n",
      "fig.set_size_inches(10,7)\n",
      "fig.tight_layout()\n",
      "\n",
      "Re = 6371\n",
      "\n",
      "h = np.linspace(0,1000,1000)\n",
      "\n",
      "G = (Re / (Re + h)) ** 2\n",
      "\n",
      "ax1.set_xlabel('Altitude Above Sea Level [km]')\n",
      "ax1.set_ylabel('Gravity [% of Sea Level]')\n",
      "\n",
      "ax1.set_xlim(0,750)\n",
      "ax1.set_ylim(80,100)\n",
      "\n",
      "ax1.plot(h,G * 100,color='m', linewidth=4);"
     ],
     "language": "python",
     "metadata": {},
     "outputs": [
      {
       "metadata": {},
       "output_type": "display_data",
       "png": "[encoded data removed]",
       "text": [
        "<matplotlib.figure.Figure at 0xaed47fcc>"
       ]
      }
     ],
     "prompt_number": 8
    },
    {
     "cell_type": "code",
     "collapsed": false,
     "input": [
      "fig.savefig('Gravity.png', dpi=300, bbox_inches='tight',pad_inches=0.05)"
     ],
     "language": "python",
     "metadata": {},
     "outputs": [],
     "prompt_number": 9
    },
    {
     "cell_type": "code",
     "collapsed": false,
     "input": [],
     "language": "python",
     "metadata": {},
     "outputs": []
    }
   ],
   "metadata": {}
  }
 ]
}