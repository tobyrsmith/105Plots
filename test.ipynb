{
 "metadata": {
  "name": "",
  "signature": "sha256:a89489da0f805dd938673b623fd8cd57c4a1ba60f10c7eae249690b302fa2e18"
 },
 "nbformat": 3,
 "nbformat_minor": 0,
 "worksheets": [
  {
   "cells": [
    {
     "cell_type": "code",
     "collapsed": false,
     "input": [
      "import pandas as pd\n",
      "import numpy as np"
     ],
     "language": "python",
     "metadata": {},
     "outputs": [],
     "prompt_number": 1
    },
    {
     "cell_type": "code",
     "collapsed": false,
     "input": [
      "t = pd.read_csv('test.csv', parse_dates =['year'])"
     ],
     "language": "python",
     "metadata": {},
     "outputs": [],
     "prompt_number": 12
    },
    {
     "cell_type": "code",
     "collapsed": false,
     "input": [
      "print t[0:10]"
     ],
     "language": "python",
     "metadata": {},
     "outputs": [
      {
       "output_type": "stream",
       "stream": "stdout",
       "text": [
        "        year  ap7  ap8  ap9 ap10 ap11  ap12  ap13  ap14  ap15  ap16  a-03  \\\n",
        "0 1965-01-01    0    0    0    0    0     0     0     0     0     0     0   \n",
        "1 1965-02-01    0    0    0    0    0     0     0     0     0     0     0   \n",
        "2 1965-03-01    0    0    0    0    0     0     0     0     0     0     0   \n",
        "3 1965-04-01    0    0    0    0    0     0     0     0     0     0     0   \n",
        "4 1965-05-01    0    0    0    0    0     0     0     0     0     0     0   \n",
        "5 1965-06-01    0    0    0    0    0     0     0     0     0     0     0   \n",
        "6 1965-07-01    0    0    0    0    0     0     0     0     0     0     0   \n",
        "7 1965-08-01    0    0    0    0    0     0     0     0     0     0     0   \n",
        "8 1965-09-01    0    0    0    0    0     0     0     0     0     0     0   \n",
        "9 1965-10-01    0    0    0    0    0     0     0     0     0     0     0   \n",
        "\n",
        "   skylab  astp  \n",
        "0       0     0  \n",
        "1       0     0  \n",
        "2       0     0  \n",
        "3       0     0  \n",
        "4       0     0  \n",
        "5       0     0  \n",
        "6       0     0  \n",
        "7       0     0  \n",
        "8       0     0  \n",
        "9       0     0  \n"
       ]
      }
     ],
     "prompt_number": 14
    },
    {
     "cell_type": "code",
     "collapsed": false,
     "input": [],
     "language": "python",
     "metadata": {},
     "outputs": []
    }
   ],
   "metadata": {}
  }
 ]
}